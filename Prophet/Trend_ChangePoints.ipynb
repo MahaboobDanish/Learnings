{
 "cells": [
  {
   "cell_type": "markdown",
   "id": "19ace7b6",
   "metadata": {},
   "source": [
    "You may have noticed in the earlier examples in this documentation that real time series frequently \n",
    "have abrupt changes in their trajectories. By default, Prophet will automatically detect these changepoints \n",
    "and will allow the trend to adapt appropriately. However, if you wish to have finer control over this process \n",
    "(e.g., Prophet missed a rate change, or is overfitting rate changes in the history), \n",
    "then there are several input arguments you can use."
   ]
  },
  {
   "cell_type": "markdown",
   "id": "396cffce",
   "metadata": {},
   "source": [
    "# Automatic ChangePoint Detetction in Prophet"
   ]
  },
  {
   "cell_type": "markdown",
   "id": "3ee2f672",
   "metadata": {},
   "source": [
    "Prophet detects changepoints by first specifying a large number of potential changepoints at which \n",
    "the rate is allowed to change."
   ]
  },
  {
   "cell_type": "markdown",
   "id": "b4f79e84",
   "metadata": {},
   "source": [
    "By default, Prophet specifies 25 potential \n",
    "changepoints which are uniformly placed in the first 80% of the time series."
   ]
  },
  {
   "cell_type": "markdown",
   "id": "58c0e96e",
   "metadata": {},
   "source": [
    "The number of potential changepoints can be set using the argument n_changepoints, \n",
    "but this is better tuned by adjusting the regularization. \n",
    "The locations of the signification changepoints can be visualized with:"
   ]
  },
  {
   "cell_type": "code",
   "execution_count": 4,
   "id": "4e236ca2",
   "metadata": {},
   "outputs": [],
   "source": [
    "from prophet.plot import add_changepoints_to_plot"
   ]
  },
  {
   "cell_type": "code",
   "execution_count": 5,
   "id": "24fd334c",
   "metadata": {},
   "outputs": [
    {
     "ename": "NameError",
     "evalue": "name 'm' is not defined",
     "output_type": "error",
     "traceback": [
      "\u001b[0;31m---------------------------------------------------------------------------\u001b[0m",
      "\u001b[0;31mNameError\u001b[0m                                 Traceback (most recent call last)",
      "Cell \u001b[0;32mIn[5], line 1\u001b[0m\n\u001b[0;32m----> 1\u001b[0m fig \u001b[38;5;241m=\u001b[39m \u001b[43mm\u001b[49m\u001b[38;5;241m.\u001b[39mplot(forecast)\n\u001b[1;32m      2\u001b[0m a \u001b[38;5;241m=\u001b[39m add_changepoints_to_plot(fig\u001b[38;5;241m.\u001b[39mgca(), m, fig)\n",
      "\u001b[0;31mNameError\u001b[0m: name 'm' is not defined"
     ]
    }
   ],
   "source": [
    "m = Prophet(growth= 'logistic')\n",
    "fig = m.plot(forecast)\n",
    "a = add_changepoints_to_plot(fig.gca(), m, fig)"
   ]
  },
  {
   "cell_type": "code",
   "execution_count": null,
   "id": "c9eb02f2",
   "metadata": {},
   "outputs": [],
   "source": []
  }
 ],
 "metadata": {
  "kernelspec": {
   "display_name": "Python 3 (ipykernel)",
   "language": "python",
   "name": "python3"
  },
  "language_info": {
   "codemirror_mode": {
    "name": "ipython",
    "version": 3
   },
   "file_extension": ".py",
   "mimetype": "text/x-python",
   "name": "python",
   "nbconvert_exporter": "python",
   "pygments_lexer": "ipython3",
   "version": "3.9.12"
  }
 },
 "nbformat": 4,
 "nbformat_minor": 5
}
